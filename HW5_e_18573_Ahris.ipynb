{
  "nbformat": 4,
  "nbformat_minor": 0,
  "metadata": {
    "colab": {
      "name": "HW5.e-18573-Ahris",
      "provenance": [],
      "collapsed_sections": []
    },
    "kernelspec": {
      "name": "python3",
      "display_name": "Python 3"
    },
    "language_info": {
      "name": "python"
    },
    "accelerator": "GPU"
  },
  "cells": [
    {
      "cell_type": "code",
      "metadata": {
        "colab": {
          "base_uri": "https://localhost:8080/"
        },
        "id": "RNeae_LZNfQU",
        "outputId": "b2e05c68-0338-4d71-f36d-69bca1bbfd07"
      },
      "source": [
        "try:\n",
        "    from google.colab import drive\n",
        "    drive.mount('/content/drive', force_remount=True)\n",
        "    COLAB = True\n",
        "    print(\"Note: using Google CoLab\")\n",
        "    %tensorflow_version 2.x\n",
        "except:\n",
        "    print(\"Note: not using Google CoLab\")\n",
        "    COLAB = False"
      ],
      "execution_count": null,
      "outputs": [
        {
          "output_type": "stream",
          "text": [
            "Mounted at /content/drive\n",
            "Note: using Google CoLab\n"
          ],
          "name": "stdout"
        }
      ]
    },
    {
      "cell_type": "code",
      "metadata": {
        "id": "-sDZUp3QNqsM"
      },
      "source": [
        "import matplotlib.pyplot as plt\n",
        "import numpy as np\n",
        "import os\n",
        "import PIL\n",
        "import tensorflow as tf\n",
        "\n",
        "from tensorflow import keras\n",
        "from tensorflow.keras import layers\n",
        "from tensorflow.keras.models import Sequential\n",
        "\n",
        "from tensorflow.keras.models import Sequential\n",
        "from tensorflow.keras.layers import Dense, Dropout, Activation, Flatten, Conv2D, MaxPooling2D\n",
        "from tensorflow.keras.callbacks import EarlyStopping\n",
        "from sklearn.model_selection import train_test_split\n",
        "import pickle\n",
        "\n",
        "import os\n",
        "import cv2\n",
        "import random"
      ],
      "execution_count": null,
      "outputs": []
    },
    {
      "cell_type": "code",
      "metadata": {
        "id": "Q217rth-Nxh8"
      },
      "source": [
        "DATADIR = \"/content/drive/MyDrive/Colab Notebooks/HW5KaggleCompetition/multiclass-image-competition/train/\"\n",
        "CATEGORIES = [\"1-Tomato 3\", \"2-Tomato 4\", \"3-Tomato Cherry Red\", \"4-Tomato Maroon\", \"5-Tomato Yellow\", \"6-Walnut\"]\n",
        "\n",
        "\n",
        "IMG_SIZE = 512\n",
        "\n",
        "training_data = []\n",
        "def create_training_data():\n",
        "    for category in CATEGORIES:\n",
        "        path = os.path.join(DATADIR, category)\n",
        "        class_num = CATEGORIES.index(category)\n",
        "        for img in os.listdir(path):\n",
        "            try:\n",
        "                #print(img)\n",
        "                img_array = cv2.imread(os.path.join(path,img), cv2.IMREAD_COLOR)\n",
        "                new_array = cv2.resize(img_array, (IMG_SIZE, IMG_SIZE))\n",
        "                training_data.append([new_array,class_num])\n",
        "            except Exception as e:\n",
        "                pass\n",
        "\n",
        "create_training_data()\n",
        "\n",
        "random.shuffle(training_data)\n",
        "\n",
        "X=[]\n",
        "Y=[]\n",
        "for features, label in training_data:\n",
        "    X.append(features)\n",
        "    Y.append(label)\n",
        "    \n",
        "X = np.array(X)\n",
        "Y = np.array(Y)"
      ],
      "execution_count": null,
      "outputs": []
    },
    {
      "cell_type": "code",
      "metadata": {
        "colab": {
          "base_uri": "https://localhost:8080/"
        },
        "id": "YLxz5rkTN4JE",
        "outputId": "e5b1194d-6e7b-48bf-f76e-8b2af53e3f16"
      },
      "source": [
        "x_train, x_test, y_train, y_test = train_test_split(    \n",
        "    X, Y, test_size=0.4, random_state=42)\n",
        "callback = EarlyStopping(monitor='val_loss', patience=5)\n",
        "model = Sequential()\n",
        "\n",
        "model.add(Conv2D(16,(3,3),input_shape=x_train.shape[1:]))\n",
        "model.add(Activation(\"relu\"))\n",
        "model.add(MaxPooling2D())\n",
        "\n",
        "model.add(Conv2D(32,(3,3)))\n",
        "model.add(Activation(\"relu\"))\n",
        "model.add(MaxPooling2D())\n",
        "\n",
        "model.add(Conv2D(64,(3,3)))\n",
        "model.add(Activation(\"relu\"))\n",
        "model.add(MaxPooling2D())\n",
        "\n",
        "\n",
        "model.add(Flatten())\n",
        "model.add(Dense(128))\n",
        "\n",
        "model.add(Activation(\"relu\"))\n",
        "\n",
        "model.add(Dropout(0.5))\n",
        "model.add(Dense(6))\n",
        "model.add(Activation('softmax'))\n",
        "print(len(x_train))\n",
        "model.compile(loss=\"sparse_categorical_crossentropy\",\n",
        "              optimizer=\"adam\",\n",
        "              metrics=[\"accuracy\"])\n",
        "histoty = model.fit(x_train,y_train,batch_size=32,epochs=10,validation_data=(x_test,y_test), callbacks=[callback])"
      ],
      "execution_count": null,
      "outputs": [
        {
          "output_type": "stream",
          "text": [
            "1398\n",
            "Epoch 1/10\n",
            "44/44 [==============================] - 8s 176ms/step - loss: 301.0942 - accuracy: 0.7446 - val_loss: 0.7057 - val_accuracy: 0.7436\n",
            "Epoch 2/10\n",
            "44/44 [==============================] - 6s 145ms/step - loss: 0.3144 - accuracy: 0.8999 - val_loss: 0.0459 - val_accuracy: 0.9914\n",
            "Epoch 3/10\n",
            "44/44 [==============================] - 6s 145ms/step - loss: 0.0684 - accuracy: 0.9785 - val_loss: 0.0117 - val_accuracy: 1.0000\n",
            "Epoch 4/10\n",
            "44/44 [==============================] - 6s 145ms/step - loss: 0.0358 - accuracy: 0.9871 - val_loss: 0.0085 - val_accuracy: 0.9968\n",
            "Epoch 5/10\n",
            "44/44 [==============================] - 6s 145ms/step - loss: 0.0408 - accuracy: 0.9843 - val_loss: 0.0355 - val_accuracy: 0.9979\n",
            "Epoch 6/10\n",
            "44/44 [==============================] - 6s 145ms/step - loss: 0.0279 - accuracy: 0.9907 - val_loss: 0.0094 - val_accuracy: 0.9957\n",
            "Epoch 7/10\n",
            "44/44 [==============================] - 6s 145ms/step - loss: 0.0194 - accuracy: 0.9928 - val_loss: 0.0053 - val_accuracy: 0.9968\n",
            "Epoch 8/10\n",
            "44/44 [==============================] - 6s 145ms/step - loss: 0.0091 - accuracy: 0.9971 - val_loss: 0.0039 - val_accuracy: 0.9989\n",
            "Epoch 9/10\n",
            "44/44 [==============================] - 6s 145ms/step - loss: 0.1379 - accuracy: 0.9764 - val_loss: 0.2171 - val_accuracy: 0.9421\n",
            "Epoch 10/10\n",
            "44/44 [==============================] - 6s 144ms/step - loss: 0.1247 - accuracy: 0.9728 - val_loss: 0.0265 - val_accuracy: 0.9914\n"
          ],
          "name": "stdout"
        }
      ]
    },
    {
      "cell_type": "code",
      "metadata": {
        "colab": {
          "base_uri": "https://localhost:8080/"
        },
        "id": "A9q2LqtMty6q",
        "outputId": "12461d05-a552-44d8-91a9-b3341db566dd"
      },
      "source": [
        "print(model.summary())"
      ],
      "execution_count": null,
      "outputs": [
        {
          "output_type": "stream",
          "text": [
            "Model: \"sequential_2\"\n",
            "_________________________________________________________________\n",
            "Layer (type)                 Output Shape              Param #   \n",
            "=================================================================\n",
            "conv2d_6 (Conv2D)            (None, 510, 510, 30)      840       \n",
            "_________________________________________________________________\n",
            "activation_10 (Activation)   (None, 510, 510, 30)      0         \n",
            "_________________________________________________________________\n",
            "max_pooling2d_6 (MaxPooling2 (None, 255, 255, 30)      0         \n",
            "_________________________________________________________________\n",
            "conv2d_7 (Conv2D)            (None, 253, 253, 60)      16260     \n",
            "_________________________________________________________________\n",
            "activation_11 (Activation)   (None, 253, 253, 60)      0         \n",
            "_________________________________________________________________\n",
            "max_pooling2d_7 (MaxPooling2 (None, 126, 126, 60)      0         \n",
            "_________________________________________________________________\n",
            "conv2d_8 (Conv2D)            (None, 124, 124, 120)     64920     \n",
            "_________________________________________________________________\n",
            "activation_12 (Activation)   (None, 124, 124, 120)     0         \n",
            "_________________________________________________________________\n",
            "max_pooling2d_8 (MaxPooling2 (None, 62, 62, 120)       0         \n",
            "_________________________________________________________________\n",
            "flatten_2 (Flatten)          (None, 461280)            0         \n",
            "_________________________________________________________________\n",
            "dense_4 (Dense)              (None, 240)               110707440 \n",
            "_________________________________________________________________\n",
            "activation_13 (Activation)   (None, 240)               0         \n",
            "_________________________________________________________________\n",
            "dropout_2 (Dropout)          (None, 240)               0         \n",
            "_________________________________________________________________\n",
            "dense_5 (Dense)              (None, 6)                 1446      \n",
            "_________________________________________________________________\n",
            "activation_14 (Activation)   (None, 6)                 0         \n",
            "=================================================================\n",
            "Total params: 110,790,906\n",
            "Trainable params: 110,790,906\n",
            "Non-trainable params: 0\n",
            "_________________________________________________________________\n",
            "None\n"
          ],
          "name": "stdout"
        }
      ]
    },
    {
      "cell_type": "code",
      "metadata": {
        "colab": {
          "base_uri": "https://localhost:8080/"
        },
        "id": "DmnYNz63uoyu",
        "outputId": "3127616d-752e-4193-fa32-8c721152dcbf"
      },
      "source": [
        "model.metrics_names\n",
        "histoty.history.keys()"
      ],
      "execution_count": null,
      "outputs": [
        {
          "output_type": "execute_result",
          "data": {
            "text/plain": [
              "dict_keys(['loss', 'accuracy', 'val_loss', 'val_accuracy'])"
            ]
          },
          "metadata": {
            "tags": []
          },
          "execution_count": 22
        }
      ]
    },
    {
      "cell_type": "code",
      "metadata": {
        "colab": {
          "base_uri": "https://localhost:8080/",
          "height": 498
        },
        "id": "hDASzDe8pMGC",
        "outputId": "adc8e42f-bec5-4760-dd8b-334289056f9c"
      },
      "source": [
        "acc = histoty.history['accuracy']\n",
        "val_acc = histoty.history['val_accuracy']\n",
        "\n",
        "loss = histoty.history['loss']\n",
        "val_loss = histoty.history['val_loss']\n",
        "epochs = 10\n",
        "epochs_range = range(epochs)\n",
        "\n",
        "plt.figure(figsize=(8, 8))\n",
        "plt.subplot(1, 2, 1)\n",
        "plt.plot(epochs_range, acc, label='Training Accuracy')\n",
        "plt.plot(epochs_range, val_acc, label='Validation Accuracy')\n",
        "plt.legend(loc='lower right')\n",
        "plt.title('Training and Validation Accuracy')\n",
        "\n",
        "plt.subplot(1, 2, 2)\n",
        "plt.plot(epochs_range, loss, label='Training Loss')\n",
        "plt.plot(epochs_range, val_loss, label='Validation Loss')\n",
        "plt.legend(loc='upper right')\n",
        "plt.title('Training and Validation Loss')\n",
        "plt.show()"
      ],
      "execution_count": null,
      "outputs": [
        {
          "output_type": "display_data",
          "data": {
            "image/png": "[encoded data removed]",
            "text/plain": [
              "<Figure size 576x576 with 2 Axes>"
            ]
          },
          "metadata": {
            "tags": [],
            "needs_background": "light"
          }
        }
      ]
    },
    {
      "cell_type": "code",
      "metadata": {
        "id": "JEZAVq7TOAdc"
      },
      "source": [
        "predictPath = \"/content/drive/MyDrive/Colab Notebooks/HW5KaggleCompetition/multiclass-image-competition/test/\"\n",
        "os.remove('/content/drive/MyDrive/Colab Notebooks/HW5KaggleCompetition/results_v4.csv')\n",
        "f = open('/content/drive/MyDrive/Colab Notebooks/HW5KaggleCompetition/results_v4.csv', 'x')\n",
        "f.write(\"filename,category\")\n",
        "f.write(\"\\n\")\n",
        "\n",
        "for imgs in os.listdir(predictPath):\n",
        "  path = os.path.join(predictPath,imgs)\n",
        "  img = cv2.imread(os.path.join(predictPath,imgs), cv2.IMREAD_COLOR)\n",
        "  #img = cv2.resize(img,(512,512))\n",
        "  img = tf.expand_dims(img, 0)\n",
        "  predictions = model.predict(img)\n",
        "  f.write(imgs + \",\" + str(np.argmax(predictions[0])+1))\n",
        "  f.write(\"\\n\")\n",
        "\n",
        "f.close()"
      ],
      "execution_count": null,
      "outputs": []
    },
    {
      "cell_type": "markdown",
      "metadata": {
        "id": "tlfGpxfclmLU"
      },
      "source": [
        "# Took help in understanding prediction part from https://www.tensorflow.org/tutorials/images/classification. "
      ]
    }
  ]
}